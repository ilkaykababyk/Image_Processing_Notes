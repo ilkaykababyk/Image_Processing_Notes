{
 "cells": [
  {
   "cell_type": "code",
   "execution_count": 17,
   "id": "dfbfe5cd-a985-4c4d-ac09-0ea9975c2d7b",
   "metadata": {},
   "outputs": [],
   "source": [
    "import cv2\n",
    "import numpy as np\n"
   ]
  },
  {
   "cell_type": "code",
   "execution_count": 19,
   "id": "924b2370-7be7-4d97-a333-8c37816a04f2",
   "metadata": {},
   "outputs": [
    {
     "name": "stdout",
     "output_type": "stream",
     "text": [
      "(683, 1024, 3)\n"
     ]
    }
   ],
   "source": [
    "my_img = cv2.imread(\"./image.jpg\",1)\n",
    "print(my_img.shape)\n",
    "\n"
   ]
  },
  {
   "cell_type": "code",
   "execution_count": 21,
   "id": "b062480e-dc04-4636-b190-3557952b90ea",
   "metadata": {},
   "outputs": [],
   "source": [
    "cv2.imshow(\"RGB Image\",my_img)\n",
    "cv2.waitKey(0)\n",
    "cv2.destroyAllWindows()\n",
    "\n"
   ]
  },
  {
   "cell_type": "code",
   "execution_count": 23,
   "id": "147d9022-221b-46a4-8d90-10dd14600949",
   "metadata": {},
   "outputs": [],
   "source": [
    "img_vertical =cv2.flip(my_img,0)\n",
    "img_horizontal = cv2.flip(my_img,1)\n",
    "img_both = cv2.flip(my_img,1)\n"
   ]
  },
  {
   "cell_type": "code",
   "execution_count": 25,
   "id": "47915dc5-3af7-46fa-a79e-efbc1d34533d",
   "metadata": {},
   "outputs": [],
   "source": [
    "\n",
    "cv2.imshow(\"original Image\",my_img)\n",
    "cv2.imshow(\"vertical Image\",img_vertical)\n",
    "cv2.imshow(\"horizontal Image\",img_horizontal)\n",
    "cv2.imshow(\"vertical and horizontal Image\",img_both)\n",
    "cv2.waitKey(0)\n",
    "cv2.destroyAllWindows()\n"
   ]
  },
  {
   "cell_type": "code",
   "execution_count": 27,
   "id": "46c45aca-d0b4-475f-b201-7df50d97cd05",
   "metadata": {},
   "outputs": [],
   "source": [
    "vertical_with_code = my_img[::-1, : ,:]\n",
    "cv2.imshow(\"vertical Image with code\",vertical_with_code)\n",
    "cv2.waitKey(0)\n",
    "cv2.destroyAllWindows()\n"
   ]
  },
  {
   "cell_type": "code",
   "execution_count": 29,
   "id": "d50537d5-1a00-41da-b655-79ff0d5df76a",
   "metadata": {},
   "outputs": [
    {
     "name": "stdout",
     "output_type": "stream",
     "text": [
      "(683, 1024, 3)\n",
      "görüntünün yüksekliği = 683\n",
      "görüntünün genişliği = 1024\n",
      "görüntünün kanal sayısı = 3\n"
     ]
    }
   ],
   "source": [
    "print(my_img.shape)\n",
    "print(f\"görüntünün yüksekliği = {my_img.shape[0]}\")\n",
    "print(f\"görüntünün genişliği = {my_img.shape[1]}\")\n",
    "print(f\"görüntünün kanal sayısı = {my_img.shape[2]}\")"
   ]
  },
  {
   "cell_type": "code",
   "execution_count": 39,
   "id": "ef1c6090-c639-4fcb-b355-8422e0a9c749",
   "metadata": {},
   "outputs": [],
   "source": [
    "resized_img = cv2.resize(my_img,(1366,2048),cv2.INTER_LANCZOS4)\n",
    "cv2.imshow(\"original Image\", my_img)\n",
    "cv2.imshow(\"resized Image\",resized_img)\n",
    "cv2.waitKey()\n",
    "cv2.destroyAllWindows()\n"
   ]
  },
  {
   "cell_type": "code",
   "execution_count": null,
   "id": "c0e8b06b-815e-4fa6-87e3-8e89ad1b35e9",
   "metadata": {},
   "outputs": [],
   "source": []
  }
 ],
 "metadata": {
  "kernelspec": {
   "display_name": "env_ybs",
   "language": "python",
   "name": "env_ybs"
  },
  "language_info": {
   "codemirror_mode": {
    "name": "ipython",
    "version": 3
   },
   "file_extension": ".py",
   "mimetype": "text/x-python",
   "name": "python",
   "nbconvert_exporter": "python",
   "pygments_lexer": "ipython3",
   "version": "3.10.10"
  }
 },
 "nbformat": 4,
 "nbformat_minor": 5
}
